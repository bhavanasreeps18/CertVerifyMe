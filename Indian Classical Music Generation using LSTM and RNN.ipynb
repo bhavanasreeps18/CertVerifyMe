{
  "cells": [
    {
      "cell_type": "markdown",
      "metadata": {
        "id": "view-in-github",
        "colab_type": "text"
      },
      "source": [
        "<a href=\"https://colab.research.google.com/github/bhavanasreeps18/CertVerifyMe/blob/main/Indian%20Classical%20Music%20Generation%20using%20LSTM%20and%20RNN.ipynb\" target=\"_parent\"><img src=\"https://colab.research.google.com/assets/colab-badge.svg\" alt=\"Open In Colab\"/></a>"
      ]
    },
    {
      "cell_type": "code",
      "source": [
        "!pip install glob2\n"
      ],
      "metadata": {
        "id": "han0fH0pfWZ2",
        "outputId": "6bba97b9-9a1f-43c0-a754-9ba352aaa17c",
        "colab": {
          "base_uri": "https://localhost:8080/"
        }
      },
      "execution_count": 8,
      "outputs": [
        {
          "output_type": "stream",
          "name": "stdout",
          "text": [
            "Requirement already satisfied: glob2 in /usr/local/lib/python3.10/dist-packages (0.7)\n"
          ]
        }
      ]
    },
    {
      "cell_type": "code",
      "source": [
        "import glob2"
      ],
      "metadata": {
        "id": "aBChQHoTfY9m"
      },
      "execution_count": 9,
      "outputs": []
    },
    {
      "cell_type": "code",
      "source": [
        "import numpy as np\n",
        "import tensorflow as tf\n",
        "from tensorflow.keras.models import Sequential\n",
        "from tensorflow.keras.layers import LSTM, Dense\n",
        "from music21 import converter, instrument, note, chord\n"
      ],
      "metadata": {
        "id": "SuEIT37wdf0p"
      },
      "execution_count": 10,
      "outputs": []
    },
    {
      "cell_type": "code",
      "source": [
        "# Load and preprocess MIDI data\n",
        "def get_notes():\n",
        "    notes = []\n",
        "    for file in glob2.glob(\"indian_classical_music/*.mid\"):\n",
        "        try:\n",
        "            print(\"Parsing MIDI file:\", file)\n",
        "            midi = converter.parse(file)\n",
        "            notes_to_parse = None\n",
        "            parts = instrument.partitionByInstrument(midi)\n",
        "            if parts:\n",
        "                notes_to_parse = parts.parts[0].recurse()\n",
        "            else:\n",
        "                notes_to_parse = midi.flat.notes\n",
        "            for element in notes_to_parse:\n",
        "                if isinstance(element, note.Note):\n",
        "                    notes.append(str(element.pitch))\n",
        "                elif isinstance(element, chord.Chord):\n",
        "                    notes.append('.'.join(str(n) for n in element.normalOrder))\n",
        "        except Exception as e:\n",
        "            print(\"Error parsing MIDI file:\", file)\n",
        "            print(\"Exception:\", e)\n",
        "    return notes\n"
      ],
      "metadata": {
        "id": "hGIlMJS9dnxG"
      },
      "execution_count": 22,
      "outputs": []
    },
    {
      "cell_type": "code",
      "source": [
        "# Prepare sequences for training\n",
        "def prepare_sequences(notes, sequence_length):\n",
        "    sequence_input = []\n",
        "    sequence_output = []\n",
        "    pitch_names = sorted(set(notes))\n",
        "    note_to_int = dict((note, number) for number, note in enumerate(pitch_names))\n",
        "    for i in range(0, len(notes) - sequence_length, 1):\n",
        "        input_sequence = notes[i:i + sequence_length]\n",
        "        output_sequence = notes[i + sequence_length]\n",
        "        sequence_input.append([note_to_int[char] for char in input_sequence])\n",
        "        sequence_output.append(note_to_int[output_sequence])\n",
        "    n_patterns = len(sequence_input)\n",
        "    sequence_input = np.reshape(sequence_input, (n_patterns, sequence_length, 1))\n",
        "    sequence_input = sequence_input / float(len(pitch_names))\n",
        "    sequence_output = tf.keras.utils.to_categorical(sequence_output)\n",
        "    return sequence_input, sequence_output\n"
      ],
      "metadata": {
        "id": "r6xwgjindr4Z"
      },
      "execution_count": 23,
      "outputs": []
    },
    {
      "cell_type": "code",
      "source": [
        "# Define LSTM model\n",
        "def create_model(input_shape, output_shape):\n",
        "    model = Sequential()\n",
        "    model.add(LSTM(256, input_shape=input_shape, return_sequences=True))\n",
        "    model.add(LSTM(256))\n",
        "    model.add(Dense(output_shape, activation='softmax'))\n",
        "    model.compile(loss='categorical_crossentropy', optimizer='adam')\n",
        "    return model"
      ],
      "metadata": {
        "id": "MgVLtyWtdu6W"
      },
      "execution_count": 29,
      "outputs": []
    },
    {
      "cell_type": "code",
      "source": [
        "# Train the model\n",
        "def train_model(model, sequence_input, sequence_output, epochs=5, batch_size=64):\n",
        "    model.fit(sequence_input, sequence_output, epochs=epochs, batch_size=batch_size)\n"
      ],
      "metadata": {
        "id": "CnotFwmfdyS6"
      },
      "execution_count": 30,
      "outputs": []
    },
    {
      "cell_type": "code",
      "source": [
        "# Generate music using the trained model\n",
        "def generate_music(model, pitch_names, sequence_length, seed_notes, num_notes):\n",
        "    int_to_note = dict((number, note) for number, note in enumerate(pitch_names))\n",
        "    pattern = seed_notes\n",
        "    generated_notes = []\n",
        "    for i in range(num_notes):\n",
        "        prediction_input = np.reshape(pattern, (1, len(pattern), 1))\n",
        "        prediction_input = prediction_input / float(len(pitch_names))\n",
        "        prediction = model.predict(prediction_input, verbose=0)\n",
        "        index = np.argmax(prediction)\n",
        "        result = int_to_note[index]\n",
        "        generated_notes.append(result)\n",
        "        pattern.append(index)\n",
        "        pattern = pattern[1:len(pattern)]\n",
        "    return generated_notes"
      ],
      "metadata": {
        "id": "LPOUpyTYdzLs"
      },
      "execution_count": 31,
      "outputs": []
    },
    {
      "cell_type": "code",
      "source": [
        "# Main function\n",
        "if __name__ == '__main__':\n",
        "    notes = get_notes()\n",
        "    sequence_length = 100\n",
        "    sequence_input, sequence_output = prepare_sequences(notes, sequence_length)\n",
        "    input_shape = (sequence_input.shape[1], sequence_input.shape[2])\n",
        "    output_shape = sequence_output.shape[1]\n",
        "    model = create_model(input_shape, output_shape)\n",
        "    train_model(model, sequence_input, sequence_output)\n",
        "    seed_notes = sequence_input[np.random.randint(0, len(sequence_input) - 1)]\n",
        "    generated_notes = generate_music(model, sorted(set(notes)), sequence_length, seed_notes, num_notes=500)\n"
      ],
      "metadata": {
        "id": "TOumNtXud2IE",
        "outputId": "a3bad573-ec3d-489f-bbda-62fd7c0f975e",
        "colab": {
          "base_uri": "https://localhost:8080/"
        }
      },
      "execution_count": null,
      "outputs": [
        {
          "output_type": "stream",
          "name": "stdout",
          "text": [
            "Parsing MIDI file: indian_classical_music/Gaud.mid\n",
            "Parsing MIDI file: indian_classical_music/Chandra Kauns.mid\n",
            "Parsing MIDI file: indian_classical_music/bazigar.mid\n",
            "Parsing MIDI file: indian_classical_music/Durga.mid\n",
            "Parsing MIDI file: indian_classical_music/Des.mid\n",
            "Parsing MIDI file: indian_classical_music/Pahadi.mid\n",
            "Parsing MIDI file: indian_classical_music/Miyan ki Malhar.mid\n",
            "Parsing MIDI file: indian_classical_music/Tilang.mid\n",
            "Parsing MIDI file: indian_classical_music/Miaki.mid\n",
            "Parsing MIDI file: indian_classical_music/Alhiya Bilawal.mid\n",
            "Parsing MIDI file: indian_classical_music/JaunaPuri.mid\n",
            "Parsing MIDI file: indian_classical_music/Bhairav.mid\n",
            "Parsing MIDI file: indian_classical_music/Adana.mid\n",
            "Parsing MIDI file: indian_classical_music/Tilak Kamode.mid\n",
            "Parsing MIDI file: indian_classical_music/Peelu.mid\n",
            "Parsing MIDI file: indian_classical_music/Bahar.mid\n",
            "Parsing MIDI file: indian_classical_music/DawnOfLove.mid\n",
            "Parsing MIDI file: indian_classical_music/Behag.mid\n",
            "Parsing MIDI file: indian_classical_music/Bageshri.mid\n",
            "Parsing MIDI file: indian_classical_music/Purvi.mid\n",
            "Epoch 1/5\n",
            "187/187 [==============================] - 210s 1s/step - loss: 3.8836\n",
            "Epoch 2/5\n",
            "187/187 [==============================] - 210s 1s/step - loss: 3.8319\n",
            "Epoch 3/5\n",
            " 57/187 [========>.....................] - ETA: 2:25 - loss: 3.8183"
          ]
        }
      ]
    },
    {
      "cell_type": "code",
      "source": [],
      "metadata": {
        "id": "01vP4oldg93-"
      },
      "execution_count": null,
      "outputs": []
    }
  ],
  "metadata": {
    "colab": {
      "name": "Welcome To Colab",
      "provenance": [],
      "include_colab_link": true
    },
    "kernelspec": {
      "display_name": "Python 3",
      "name": "python3"
    }
  },
  "nbformat": 4,
  "nbformat_minor": 0
}